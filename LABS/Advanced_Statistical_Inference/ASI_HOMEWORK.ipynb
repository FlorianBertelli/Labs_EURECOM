{
 "cells": [
  {
   "cell_type": "code",
   "execution_count": 1,
   "metadata": {},
   "outputs": [
    {
     "name": "stdout",
     "output_type": "stream",
     "text": [
      "ASI (1).ipynb  ASI-Copy1 (1).ipynb  train.csv\n",
      "ASI-1-2.ipynb  ASI_exercice.ipynb\n"
     ]
    }
   ],
   "source": [
    "ls"
   ]
  },
  {
   "cell_type": "code",
   "execution_count": 2,
   "metadata": {},
   "outputs": [
    {
     "name": "stdout",
     "output_type": "stream",
     "text": [
      "   ID_code  target    var_0   var_1    var_2   var_3    var_4   var_5   var_6  \\\n",
      "0  train_0       0   8.9255 -6.7863  11.9081  5.0930  11.4607 -9.2834  5.1187   \n",
      "1  train_1       0  11.5006 -4.1473  13.8588  5.3890  12.3622  7.0433  5.6208   \n",
      "2  train_2       0   8.6093 -2.7457  12.0805  7.8928  10.5825 -9.0837  6.9427   \n",
      "3  train_3       0  11.0604 -2.1518   8.9522  7.1957  12.5846 -1.8361  5.8428   \n",
      "4  train_4       0   9.8369 -1.4834  12.8746  6.6375  12.2772  2.4486  5.9405   \n",
      "\n",
      "     var_7   ...     var_190  var_191  var_192  var_193  var_194  var_195  \\\n",
      "0  18.6266   ...      4.4354   3.9642   3.1364   1.6910  18.5227  -2.3978   \n",
      "1  16.5338   ...      7.6421   7.7214   2.5837  10.9516  15.4305   2.0339   \n",
      "2  14.6155   ...      2.9057   9.7905   1.6704   1.6858  21.6042   3.1417   \n",
      "3  14.9250   ...      4.4666   4.7433   0.7178   1.4214  23.0347  -1.2706   \n",
      "4  19.2514   ...     -1.4905   9.5214  -0.1508   9.1942  13.2876  -1.5121   \n",
      "\n",
      "   var_196  var_197  var_198  var_199  \n",
      "0   7.8784   8.5635  12.7803  -1.0914  \n",
      "1   8.1267   8.7889  18.3560   1.9518  \n",
      "2  -6.5213   8.2675  14.7222   0.3965  \n",
      "3  -2.9275  10.2922  17.9697  -8.9996  \n",
      "4   3.9267   9.5031  17.9974  -8.8104  \n",
      "\n",
      "[5 rows x 202 columns]\n"
     ]
    }
   ],
   "source": [
    "import numpy as np\n",
    "import pandas as pd\n",
    "import matplotlib.pyplot as plt\n",
    "import seaborn as sns\n",
    "import tensorflow as tf\n",
    "from tensorflow import keras\n",
    "from tensorflow.keras import layers\n",
    "\n",
    "from scipy.stats import norm\n",
    "data = pd.read_csv('./train.csv')\n",
    "data= data.drop(data.index[len(data)-1])\n",
    "print(data.head())"
   ]
  },
  {
   "cell_type": "code",
   "execution_count": 3,
   "metadata": {},
   "outputs": [
    {
     "name": "stdout",
     "output_type": "stream",
     "text": [
      "(199999, 202)\n"
     ]
    }
   ],
   "source": [
    "print(data.shape)\n",
    "data = data.drop(data.index[2])"
   ]
  },
  {
   "cell_type": "code",
   "execution_count": 4,
   "metadata": {},
   "outputs": [],
   "source": [
    "#Creating the list of the variable\n",
    "data_var = data.drop('target', axis=1)\n",
    "data_var = data_var.drop('ID_code' , axis=1)\n",
    "#Creating the dataframe of the target\n",
    "data_target = data.target\n",
    "\n",
    "from sklearn.model_selection import train_test_split\n",
    "\n",
    "X_train, X_test, y_train, y_test = train_test_split(data_var, data_target, test_size=0.5)"
   ]
  },
  {
   "cell_type": "code",
   "execution_count": 5,
   "metadata": {},
   "outputs": [],
   "source": [
    "del data"
   ]
  },
  {
   "cell_type": "code",
   "execution_count": 6,
   "metadata": {},
   "outputs": [
    {
     "name": "stdout",
     "output_type": "stream",
     "text": [
      "The shape of X_train is  (99999, 200)\n",
      "The shape of X_test is  (99999, 200)\n"
     ]
    }
   ],
   "source": [
    "print('The shape of X_train is ' , X_train.shape)\n",
    "print('The shape of X_test is ' , X_test.shape)"
   ]
  },
  {
   "cell_type": "code",
   "execution_count": 7,
   "metadata": {},
   "outputs": [
    {
     "name": "stdout",
     "output_type": "stream",
     "text": [
      "count    99999.000000\n",
      "mean         0.100341\n",
      "std          0.300456\n",
      "min          0.000000\n",
      "25%          0.000000\n",
      "50%          0.000000\n",
      "75%          0.000000\n",
      "max          1.000000\n",
      "Name: target, dtype: float64\n"
     ]
    },
    {
     "data": {
      "image/png": "[encoded data removed]",
      "text/plain": [
       "<Figure size 432x288 with 1 Axes>"
      ]
     },
     "metadata": {},
     "output_type": "display_data"
    }
   ],
   "source": [
    "from matplotlib.ticker import PercentFormatter\n",
    "print(y_train.describe())\n",
    "\n",
    "plt.title('Histogram of the distribution of the target')\n",
    "plt.hist(y_train , weights=np.ones(len(y_train)) / len(y_train))\n",
    "plt.gca().yaxis.set_major_formatter(PercentFormatter(1))"
   ]
  },
  {
   "cell_type": "markdown",
   "metadata": {},
   "source": [
    "<h3> Question 3 <h3/>"
   ]
  },
  {
   "cell_type": "markdown",
   "metadata": {},
   "source": [
    "<h4> Question 3.a <h4/>"
   ]
  },
  {
   "cell_type": "code",
   "execution_count": 8,
   "metadata": {},
   "outputs": [],
   "source": [
    "##All the function needed to do bayer linear regression from the first lab\n",
    "\n",
    "#FUNCTION TO COMPUTE SIGMA HAT\n",
    "def get_sigma2_hat(X, w_hat, t):\n",
    "    sigma2_hat = (t- X.dot(w_hat.T)).T.dot((t- X.dot(w_hat.T))) / len(X)\n",
    "    return sigma2_hat\n",
    "\n",
    "\n",
    "##FUNCTION TO COMPUTE THE VARIANCE W_HAT\n",
    "def get_cov_w(x, t, order):\n",
    "    X_=get_X(x,order)\n",
    "    w_hat=get_w_hat(x,t,order)\n",
    "    sigma2_hat = (get_sigma2_hat(X_,w_hat,t))\n",
    "    cov_w_hat = sigma2_hat * np.linalg.inv(((X_.T.dot(X_))) + 10000000 * np.identity(X_.shape[1]))\n",
    "   \n",
    "    return cov_w_hat \n",
    "\n",
    "\n",
    "##FUNCTION TO COMPUTE X_\n",
    "def get_X(x, n):\n",
    "    X_= np.ones((x.shape[0],1))\n",
    "    for i in range(1,n+1):\n",
    "        X_ = np.concatenate((X_,x**i) , axis=1)\n",
    "    return(X_)\n",
    "\n",
    "##FUNCTION TO COMPUTE W_HAT\n",
    "def get_w_hat(x_, y, n):\n",
    "    #Computing X_\n",
    "    X_=get_X(x_, n)\n",
    " \n",
    "    #Computing W hat\n",
    "    w_hat = ( np.linalg.inv( (X_.T.dot (X_)) ) ).dot(X_.T).dot(y) \n",
    "\n",
    "    return w_hat\n",
    "\n",
    "def predict(x, t, x_test, K=1):\n",
    "    X_test= get_X(x_test, K)\n",
    "    w_hat = lsfit_k(x,t,K)[0] \n",
    "    predictions = ((np.transpose(X_test.dot(w_hat.T))))\n",
    "    return predictions\n",
    "\n",
    "\n",
    "\n",
    "def get_lin_regr_degre(x, w, n):\n",
    "    X=get_X(x,n)\n",
    "    t_pred=((np.transpose(X.dot(w))))\n",
    "    return (np.array(t_pred) , x)"
   ]
  },
  {
   "cell_type": "markdown",
   "metadata": {},
   "source": [
    "<h4> Question 3.b <h4/>"
   ]
  },
  {
   "cell_type": "markdown",
   "metadata": {},
   "source": [
    "To determine the prior parameters for the gaussian prior I assume that the variables are independant so we have a S (the covariance of the gaussian prior) which is diagonale. To choose the best one I did cross validation with different values of S and I obtained good results with 1000000 identity"
   ]
  },
  {
   "cell_type": "markdown",
   "metadata": {},
   "source": [
    "<h4> Question 3.c <h4/>"
   ]
  },
  {
   "cell_type": "code",
   "execution_count": 42,
   "metadata": {},
   "outputs": [],
   "source": [
    "def compute_N_transform(X_train , y_train ,X_test ,y_test, order):\n",
    "\n",
    "    ##Computing the W aand the prediction according to it\n",
    "    w_samples = (np.matrix(np.random.multivariate_normal( get_w_hat(X_train,y_train,order) ,get_cov_w(X_train,y_train,order))).T) # TO COMPLETE\n",
    "    t_pred_train = (get_lin_regr_degre(X_train,np.array(w_samples) ,order)[0])\n",
    "    t_pred_test = (get_lin_regr_degre(X_test,np.array(w_samples) ,order)[0]) \n",
    "   \n",
    "    \n",
    "    \n",
    "    #Computing the loss between prediction and data\n",
    "    return(w_samples , t_pred_train  , t_pred_test)\n",
    "\n",
    "\n",
    "#print(compute_N_transform(X_train , y_train ,6)[2])"
   ]
  },
  {
   "cell_type": "markdown",
   "metadata": {},
   "source": [
    "__COMMENTS:__ \n",
    "\n",
    "In this part we compute the t_pred in continous variable "
   ]
  },
  {
   "cell_type": "markdown",
   "metadata": {},
   "source": [
    "<h4> Question 3.d<h4/>\n",
    "    \n",
    "    \n",
    "    Here is an application of the few things we need to do on our data to be have a better model in term of preprocessing:\n",
    "        -> data scaling in order to avoid the data to be to high\n",
    "        -> removing outliers (to make our predictions more robus and not be affected by points that are not really represnetative of the dataset)\n",
    "        -> deleting nan rows or rows with nan values"
   ]
  },
  {
   "cell_type": "code",
   "execution_count": 9,
   "metadata": {},
   "outputs": [],
   "source": [
    "from sklearn.preprocessing import scale\n",
    "\n",
    "X_train = scale(X_train)\n",
    "X_test = scale (X_test)"
   ]
  },
  {
   "cell_type": "markdown",
   "metadata": {},
   "source": [
    "<h4> Question 3.e<h4/>"
   ]
  },
  {
   "cell_type": "code",
   "execution_count": 43,
   "metadata": {},
   "outputs": [
    {
     "name": "stdout",
     "output_type": "stream",
     "text": [
      "The variance of the posterior weight distribution is  0.00011850116933280792\n",
      "The variance of the posterior weight distribution is  0.0007184476211953767\n",
      "The variance of the posterior weight distribution is  0.00040894837950974423\n",
      "The variance of the posterior weight distribution is  4.786626379614141e-05\n"
     ]
    }
   ],
   "source": [
    "N_list = [1 ,2 ,3 ,6]\n",
    "result_list =[]\n",
    "for order in N_list:\n",
    "    result_list.append(compute_N_transform(X_train , y_train , X_test, y_test, order))\n",
    "    print('The variance of the posterior weight distribution is ', np.var(compute_N_transform(X_train , y_train , X_test, y_test, order)[0]))\n",
    "    \n",
    "    "
   ]
  },
  {
   "cell_type": "markdown",
   "metadata": {},
   "source": [
    "<h4> Question 3.f<h4/>"
   ]
  },
  {
   "cell_type": "markdown",
   "metadata": {},
   "source": [
    "To discretize or label after I predicted them I decided to put a threshold. If it is superior to the threshold our label will be considered as a 1 and if it is inferior or equal as a 0.\n",
    "\n",
    "Howver to determine the best threshold wee tried several threshold on the training dataset and choose the one which gives us the best score and use it as a threshold.\n"
   ]
  },
  {
   "cell_type": "code",
   "execution_count": 44,
   "metadata": {},
   "outputs": [],
   "source": [
    "def compute_N_transform_discrete(X_train , y_train , X_test , y_test , order , threshold):\n",
    "\n",
    "    ##Computing the W aand the prediction according to it\n",
    "  \n",
    "    w_samples = (np.matrix(np.random.multivariate_normal( get_w_hat(X_train,y_train,order) ,  get_cov_w(X_train,y_train,order) )).T) # TO COMPLETE\n",
    "    \n",
    "    \n",
    "    train_pred = (get_lin_regr_degre(X_train,np.array(w_samples) ,order)[0]) # COMPLETE\n",
    "    test_pred =  (get_lin_regr_degre(X_test,np.array(w_samples) ,order)[0])\n",
    "\n",
    "    #Computing the score of our pred according to the threshold\n",
    "    \n",
    "    train_pred[train_pred > threshold] = 1\n",
    "    train_pred[train_pred <= threshold] = 0\n",
    "    test_pred[test_pred > threshold] = 1\n",
    "    test_pred[test_pred <= threshold] = 0\n",
    "    \n",
    "    \n",
    "    \n",
    "    train_score = (abs( train_pred- np.array(y_train) ).sum()/len(y_train) * 100)   \n",
    "    test_score =  (abs( test_pred - np.array(y_test) ).sum()/len(y_test) * 100)   \n",
    "    return(w_samples , train_score , test_score , train_pred , test_pred)\n",
    "\n",
    "\n",
    "#print(compute_N_transform(X_train , y_train ,6)[2])"
   ]
  },
  {
   "cell_type": "code",
   "execution_count": 45,
   "metadata": {},
   "outputs": [
    {
     "name": "stdout",
     "output_type": "stream",
     "text": [
      "FOR ORDER  1\n",
      "Error on training  9.849098490984911 %\n",
      "Error on test 9.75309753097531 %\n",
      "FOR ORDER  2\n",
      "Error on training  9.06309063090631 %\n",
      "Error on test 8.984089840898408 %\n",
      "FOR ORDER  3\n",
      "Error on training  8.846088460884609 %\n",
      "Error on test 8.749087490874908 %\n",
      "FOR ORDER  6\n",
      "Error on training  8.602086020860208 %\n",
      "Error on test 8.594085940859408 %\n"
     ]
    }
   ],
   "source": [
    "N_list = [1 ,2 ,3 ,6]\n",
    "result_list = []\n",
    "for order in N_list:\n",
    "    result = compute_N_transform_discrete(X_train , y_train ,X_test, y_test ,  order ,0.5)\n",
    "    print('FOR ORDER ' , order)\n",
    "    print('Error on training ' , result[1] , '%' )\n",
    "    print('Error on test' ,  result[2] , '%' )"
   ]
  },
  {
   "cell_type": "code",
   "execution_count": 46,
   "metadata": {},
   "outputs": [
    {
     "data": {
      "text/plain": [
       "[<matplotlib.lines.Line2D at 0x7f319b62ef60>]"
      ]
     },
     "execution_count": 46,
     "metadata": {},
     "output_type": "execute_result"
    },
    {
     "data": {
      "image/png": "[encoded data removed]",
      "text/plain": [
       "<Figure size 432x288 with 1 Axes>"
      ]
     },
     "metadata": {},
     "output_type": "display_data"
    }
   ],
   "source": [
    "#Finding the best threshold on the train data\n",
    "threshold_list = [0.2 ,0.3 ,0.4 ,0.5, 0.6 ,0.7 ,0.8]\n",
    "result_list = []\n",
    "for threshold in threshold_list:\n",
    "    result = compute_N_transform_discrete(X_train , y_train ,X_test, y_test ,  2 ,threshold)\n",
    "    result_list.append(result[1])\n",
    "    \n",
    "plt.xlabel('Threshold')\n",
    "plt.ylabel('Percentage of error')\n",
    "plt.title('Error against threshold value')\n",
    "plt.plot(threshold_list , result_list)"
   ]
  },
  {
   "cell_type": "code",
   "execution_count": 9,
   "metadata": {},
   "outputs": [],
   "source": [
    "from sklearn.model_selection import train_test_split\n",
    "from sklearn.metrics import confusion_matrix\n",
    "from sklearn.utils.multiclass import unique_labels\n",
    "\n",
    "def plot_confusion_matrix(y_true, y_pred, \n",
    "                          normalize=False,\n",
    "                          title=None,\n",
    "                          cmap=plt.cm.Blues):\n",
    "    \"\"\"\n",
    "    This function prints and plots the confusion matrix.\n",
    "    Normalization can be applied by setting `normalize=True`.\n",
    "    \"\"\"\n",
    "    if not title:\n",
    "        if normalize:\n",
    "            title = 'Normalized confusion matrix'\n",
    "        else:\n",
    "            title = 'Confusion matrix, without normalization'\n",
    "\n",
    "    # Compute confusion matrix\n",
    "    cm = confusion_matrix(y_true, y_pred)\n",
    "    \n",
    "    if normalize:\n",
    "        cm = cm.astype('float') / cm.sum(axis=1)[:, np.newaxis]\n",
    "        print(\"Normalized confusion matrix\")\n",
    "    else:\n",
    "        print('Confusion matrix, without normalization')\n",
    "\n",
    "    print(cm)\n",
    "\n",
    "    fig, ax = plt.subplots()\n",
    "    im = ax.imshow(cm, interpolation='nearest', cmap=cmap)\n",
    "    ax.figure.colorbar(im, ax=ax)\n",
    "    # We want to show all ticks...\n",
    "    ax.set(xticks=np.arange(cm.shape[1]),\n",
    "           yticks=np.arange(cm.shape[0]),\n",
    "           # ... and label them with the respective list entries\n",
    "           title=title,\n",
    "           ylabel='True label',\n",
    "           xlabel='Predicted label')\n",
    "\n",
    "    # Rotate the tick labels and set their alignment.\n",
    "    plt.setp(ax.get_xticklabels(), rotation=45, ha=\"right\",\n",
    "             rotation_mode=\"anchor\")\n",
    "\n",
    "    # Loop over data dimensions and create text annotations.\n",
    "    fmt = '.2f' if normalize else 'd'\n",
    "    thresh = cm.max() / 2.\n",
    "    for i in range(cm.shape[0]):\n",
    "        for j in range(cm.shape[1]):\n",
    "            ax.text(j, i, format(cm[i, j], fmt),\n",
    "                    ha=\"center\", va=\"center\",\n",
    "                    color=\"white\" if cm[i, j] > thresh else \"black\")\n",
    "    fig.tight_layout()\n",
    "    return ax\n",
    "\n",
    "\n"
   ]
  },
  {
   "cell_type": "code",
   "execution_count": 52,
   "metadata": {},
   "outputs": [
    {
     "name": "stdout",
     "output_type": "stream",
     "text": [
      "Confusion matrix, without normalization\n",
      "[[89243   762]\n",
      " [ 7195  2799]]\n"
     ]
    },
    {
     "data": {
      "image/png": "[encoded data removed]",
      "text/plain": [
       "<Figure size 432x288 with 2 Axes>"
      ]
     },
     "metadata": {},
     "output_type": "display_data"
    }
   ],
   "source": [
    "np.set_printoptions(precision=2)\n",
    "\n",
    "result = compute_N_transform_discrete(X_train , y_train ,X_test, y_test ,  2 ,0.4)\n",
    "# Plot non-normalized confusion matrix\n",
    "plot_confusion_matrix(np.array(y_test).reshape((len(y_test),1)), result[4].reshape((len(y_test),1)), \n",
    "                      title='Confusion matrix, without normalization')\n",
    "\n",
    "\n",
    "plt.show()\n",
    "\n"
   ]
  },
  {
   "cell_type": "markdown",
   "metadata": {},
   "source": [
    "<h4> Question 3.g<h4/>"
   ]
  },
  {
   "cell_type": "code",
   "execution_count": 53,
   "metadata": {},
   "outputs": [
    {
     "name": "stdout",
     "output_type": "stream",
     "text": [
      "[1 0 1 ... 1 1 1]\n",
      "Confusion matrix, without normalization\n",
      "[[45257 44748]\n",
      " [ 5018  4976]]\n"
     ]
    },
    {
     "data": {
      "text/plain": [
       "<matplotlib.axes._subplots.AxesSubplot at 0x7f319b12c860>"
      ]
     },
     "execution_count": 53,
     "metadata": {},
     "output_type": "execute_result"
    },
    {
     "data": {
      "image/png": "[encoded data removed]",
      "text/plain": [
       "<Figure size 432x288 with 2 Axes>"
      ]
     },
     "metadata": {},
     "output_type": "display_data"
    }
   ],
   "source": [
    "##Generate a random vector to ilustrate the effect of a random classfier\n",
    "y_pred_random = np.random.randint(2, size=len(y_test))\n",
    "print(y_pred_random)\n",
    "\n",
    "##plot the confusion matrix\n",
    "plot_confusion_matrix(np.array(y_test).reshape((99999,1)), y_pred_random.reshape((99999,1)), \n",
    "                      title='Confusion matrix, without normalization')"
   ]
  },
  {
   "cell_type": "markdown",
   "metadata": {},
   "source": [
    "__COMMENTS:__\n",
    "\n",
    "So as we can see our classifier manage well to predict 0 but not very well to predict 1. In the case of disease detection this can be really bad because, it is worse to not predict than predicting a disease that is not present.\n",
    "Furthermore, our model is quite fast to train but if we increase the order it is more computionally demanding>\n",
    "However our model is better than the random one. "
   ]
  },
  {
   "cell_type": "markdown",
   "metadata": {},
   "source": [
    "<h3> Question 4 \n",
    " <h3/>"
   ]
  },
  {
   "cell_type": "markdown",
   "metadata": {},
   "source": [
    "<h4> Question 4.a<h4/>"
   ]
  },
  {
   "cell_type": "markdown",
   "metadata": {},
   "source": [
    "To do the gradient descent we have to compute the gradient  of the joint likehood. This will allows to obtain the maixmun of the MAP estimator\n",
    "\n",
    "$ log(g(w,X,t, \\sigma^2))= -{D\\over 2} log(2\\pi)  -{1\\over 2\\sigma^2}w^Tw + \\sum_{n=1}^N (t_n.log(h(w^Tx_n)+(1-t_n)[1-h(w^Tx_n)]) $\n",
    "\n",
    "So if we derive\n",
    "\n",
    "$ { \\partial log(g)  \\over \\partial w_i } = - {w_i \\over \\sigma^2 } +  \\sum_{n=0}^{n=N} x_n^{(i)} (t_n - { 1  \\over {1 + exp(-w^T x_n)}}) $  "
   ]
  },
  {
   "cell_type": "code",
   "execution_count": 10,
   "metadata": {},
   "outputs": [],
   "source": [
    "import numpy.random as rd\n",
    "from sklearn.metrics import f1_score"
   ]
  },
  {
   "cell_type": "code",
   "execution_count": 11,
   "metadata": {},
   "outputs": [],
   "source": [
    "#Definition of sigmoix in order to avoid rewrittting it\n",
    "def sigmoid(x):\n",
    "    return 1 / (1 + np.exp(-x))\n",
    "\n",
    "#COmpute the joint likelihood of the gradient\n",
    "def gradient_joint_likelihood(X, w, t , sigma2):\n",
    "    tmp = np.dot((np.array(t).reshape(99999 , 1)) -  sigmoid(np.dot(X, w.T)).T,X)\n",
    "    return ((-w/sigma2) + tmp)"
   ]
  },
  {
   "cell_type": "markdown",
   "metadata": {},
   "source": [
    "\n",
    "\n",
    "\n",
    "\n",
    "\n",
    "\n",
    "\n",
    "\n",
    "\n",
    "\n",
    "<h4> Question 4.b<h4/>"
   ]
  },
  {
   "cell_type": "code",
   "execution_count": 12,
   "metadata": {},
   "outputs": [],
   "source": [
    "##SOME USEFULL FUNCTION TO USE IN THE GRADIENT\n",
    "\n",
    "#Computing the absolute loss between prediction and data\n",
    "def loss(y_test, y_pred):\n",
    "    return(np.sum(abs(y_test-y_pred))/len(y_pred))\n",
    "\n",
    "#Predicting y according to the data and the W found\n",
    "def pred(W,X):\n",
    "    tmp=np.exp(-W.dot(X.T))\n",
    "    size = tmp.shape[0]\n",
    "    tmp=tmp.reshape(size)\n",
    "    prediction = 1/(1+tmp)\n",
    "    return np.array(prediction)"
   ]
  },
  {
   "cell_type": "code",
   "execution_count": 14,
   "metadata": {},
   "outputs": [],
   "source": [
    "#FUNCTION THAT COMPUTES THE GRADIENT DESCENT W.R.T X TRAIN AND Y TRAIN\n",
    "def gradient_descent(X,W,y_train, learning_rate,max_iteration, stop_condition , sigma2):\n",
    "    \n",
    "    #Fixing and initiliasing some variables in order to enter in the while condition \n",
    "    delta = 10\n",
    "    previous_loss = 100000\n",
    "    i = 0\n",
    "    \n",
    "    #For each iteration go in the direction of the gradient to increase the joint likelihood\n",
    "    #and checking if the absolute loss is decreasing enough\n",
    "    while(i<max_iteration and  delta > stop_condition):\n",
    "        W += learning_rate*gradient_joint_likelihood(X,W , y_train , sigma2) \n",
    "        \n",
    "        delta = abs(previous_loss-loss(y_train, pred(X,W)))\n",
    "        previous_loss = loss(y_train, pred(X,W))\n",
    "        i+=1\n",
    "        if(i%50 == 0):\n",
    "            print(previous_loss)\n",
    "    return W\n",
    "\n"
   ]
  },
  {
   "cell_type": "code",
   "execution_count": 68,
   "metadata": {},
   "outputs": [
    {
     "name": "stdout",
     "output_type": "stream",
     "text": [
      "Training for parameters  {'sigma2': 10, 'learning_rate': 0.01}\n"
     ]
    },
    {
     "name": "stderr",
     "output_type": "stream",
     "text": [
      "/usr/local/lib/python3.5/dist-packages/ipykernel_launcher.py:2: RuntimeWarning: overflow encountered in exp\n",
      "  \n"
     ]
    },
    {
     "name": "stdout",
     "output_type": "stream",
     "text": [
      "0.1380413455831685\n",
      "0.1010410104101041\n",
      "0.11818172182674082\n",
      "0.09891012075521538\n",
      "0.1010410106051722\n",
      "0.11483215186948503\n",
      "Training for parameters  {'sigma2': 100, 'learning_rate': 0.01}\n",
      "0.12236483649643758\n",
      "0.10369233605643113\n",
      "0.09245279001556425\n",
      "0.1010410104101041\n",
      "0.19890440084811362\n",
      "0.245421363545138\n",
      "Training for parameters  {'sigma2': 1000, 'learning_rate': 0.01}\n",
      "0.11762696144558313\n",
      "0.11456915098961783\n",
      "0.10457077130006134\n",
      "0.1010410104101041\n",
      "0.22956858650403425\n",
      "0.20253589348387158\n",
      "Training for parameters  {'sigma2': 100000, 'learning_rate': 0.01}\n",
      "0.0876953639491247\n",
      "0.1796413409516988\n",
      "0.10404505086649153\n",
      "0.10104101041010412\n",
      "0.09628754865168594\n",
      "0.11601249110565692\n",
      "Training for parameters  {'sigma2': 10, 'learning_rate': 0.001}\n",
      "0.19141491561173368\n",
      "0.09610762439695504\n",
      "0.09841628191556127\n",
      "0.08880988117886342\n",
      "0.17666818464192624\n",
      "0.0910267348049887\n",
      "Training for parameters  {'sigma2': 100, 'learning_rate': 0.001}\n",
      "0.1010317068815983\n",
      "0.10134454287861404\n",
      "0.1345440974245836\n",
      "0.19963788547697084\n",
      "0.13718192610450855\n",
      "0.1010411538607697\n",
      "Training for parameters  {'sigma2': 1000, 'learning_rate': 0.001}\n",
      "0.11153428268051607\n",
      "0.08832210282103484\n",
      "0.3878632380558257\n",
      "0.10104101174068793\n",
      "0.10109611287135047\n",
      "0.09585197151079045\n",
      "Training for parameters  {'sigma2': 100000, 'learning_rate': 0.001}\n",
      "0.10104101519378393\n",
      "0.11077716148661365\n",
      "0.10104101043833395\n",
      "0.10906264180047645\n",
      "0.10104099139690846\n",
      "0.09658587844206767\n",
      "Training for parameters  {'sigma2': 10, 'learning_rate': 0.0001}\n",
      "0.13329208922411712\n",
      "Training for parameters  {'sigma2': 100, 'learning_rate': 0.0001}\n",
      "0.1332882188698081\n",
      "Training for parameters  {'sigma2': 1000, 'learning_rate': 0.0001}\n",
      "0.13328767931311053\n",
      "Training for parameters  {'sigma2': 100000, 'learning_rate': 0.0001}\n",
      "0.13328819956544263\n",
      "Training for parameters  {'sigma2': 10, 'learning_rate': 1e-05}\n",
      "0.12599484693098925\n",
      "0.12975771114115606\n",
      "0.13190921889784296\n",
      "0.13277898018017165\n",
      "0.13310620357642647\n",
      "0.13322596686423435\n",
      "Training for parameters  {'sigma2': 100, 'learning_rate': 1e-05}\n",
      "0.12445490474220605\n",
      "0.1287356660548972\n",
      "0.13146076601785775\n",
      "0.132602865589026\n",
      "0.13303885417516265\n",
      "0.1331993223903587\n",
      "Training for parameters  {'sigma2': 1000, 'learning_rate': 1e-05}\n",
      "0.12550332380887733\n",
      "0.12943524555106792\n",
      "0.13176962237540318\n",
      "0.13272289297982237\n",
      "0.1330831388167217\n",
      "0.13321522925517412\n",
      "Training for parameters  {'sigma2': 100000, 'learning_rate': 1e-05}\n",
      "0.1230711928322005\n",
      "0.1279456651418883\n",
      "0.13110558317199647\n",
      "0.1324624247601716\n",
      "0.13298624477177867\n",
      "0.13317989121336926\n",
      "Training for parameters  {'sigma2': 10, 'learning_rate': 1e-06}\n",
      "0.41698368681078524\n",
      "0.31213546871435033\n",
      "0.2227913463382932\n",
      "0.1700039594062568\n",
      "0.14517960320443354\n",
      "0.13398428038250226\n",
      "Training for parameters  {'sigma2': 100, 'learning_rate': 1e-06}\n",
      "0.40671363728168025\n",
      "0.29567750387544345\n",
      "0.20904774150420402\n",
      "0.16305018927602744\n",
      "0.1429079874064444\n",
      "0.13414281017817814\n",
      "Training for parameters  {'sigma2': 1000, 'learning_rate': 1e-06}\n",
      "0.4317689956265801\n",
      "0.3173350878228187\n",
      "0.2222423987809227\n",
      "0.1693544243041105\n",
      "0.14608773324535954\n",
      "0.13607550751943884\n",
      "Training for parameters  {'sigma2': 100000, 'learning_rate': 1e-06}\n",
      "0.4068054651557766\n",
      "0.3011298152895621\n",
      "0.2153690541313975\n",
      "0.16658694669821408\n",
      "0.14373796804461325\n",
      "0.13335301809882366\n",
      "Training for parameters  {'sigma2': 10, 'learning_rate': 1e-07}\n",
      "0.514530164677032\n",
      "0.5054012639563167\n",
      "0.4960687755649546\n",
      "0.4865354001096398\n",
      "0.4768045923594249\n",
      "0.46688042334755353\n",
      "Training for parameters  {'sigma2': 100, 'learning_rate': 1e-07}\n",
      "0.5104658578597189\n",
      "0.502107976931105\n",
      "0.4935757505418491\n",
      "0.48487193067125645\n",
      "0.4759988094484446\n",
      "0.4669582497071136\n",
      "Training for parameters  {'sigma2': 1000, 'learning_rate': 1e-07}\n",
      "0.5253096844810865\n",
      "0.5164115767502659\n",
      "0.5072855500580663\n",
      "0.4979320730837586\n",
      "0.48835297860101845\n",
      "0.47855205484708024\n",
      "Training for parameters  {'sigma2': 100000, 'learning_rate': 1e-07}\n",
      "0.5228542274948126\n",
      "0.5135262112167237\n",
      "0.5039695163820375\n",
      "0.494187187835138\n",
      "0.4841832307563968\n",
      "0.4739626791013987\n"
     ]
    }
   ],
   "source": [
    "from sklearn.model_selection import ParameterGrid\n",
    "\n",
    "hyperparameters = {'learning_rate': [0.01, 0.001 , 0.0001, 0.00001 , 0.000001 , 0.0000001], 'sigma2': [10, 100 , 1000 , 100000]} \n",
    "\n",
    "# Compute all combinations\n",
    "parameter_grid = list(ParameterGrid(hyperparameters))\n",
    "for parameter_combination in parameter_grid:\n",
    "    print('Training for parameters ' , parameter_combination)\n",
    "    W_final = gradient_descent(get_X(X_train,1),rd.rand(1,201), y_train ,parameter_combination.get('learning_rate') , 300, 0.0000001 , parameter_combination.get('sigma2'))"
   ]
  },
  {
   "cell_type": "code",
   "execution_count": 73,
   "metadata": {},
   "outputs": [
    {
     "name": "stdout",
     "output_type": "stream",
     "text": [
      "0.4056015103275164\n",
      "0.298553319946752\n",
      "0.21314547155548738\n",
      "0.16538688177411576\n",
      "0.14337314733542875\n",
      "0.13346793105573448\n",
      "0.1289490826315166\n",
      "0.12696151556089233\n",
      "0.12621956493868852\n"
     ]
    }
   ],
   "source": [
    "W_final = gradient_descent(get_X(X_train,1),rd.rand(1,201), y_train ,0.000001 , 10000, 0.0000001 , 10000)\n",
    "predictions =pred(get_X(X_test,1),W_final)\n",
    "  \n",
    "#if p>0.5 assign to 1 \n",
    "predictions[predictions > 0.5] = 1\n",
    "predictions[predictions <= 0.5] = 0"
   ]
  },
  {
   "cell_type": "markdown",
   "metadata": {},
   "source": [
    "<h4> Question 4.c<h4/>"
   ]
  },
  {
   "cell_type": "markdown",
   "metadata": {},
   "source": [
    "We had to do several tries to obtain the global optiumum because our likelihood is not perfectly convexe so to obtain a good solution "
   ]
  },
  {
   "cell_type": "markdown",
   "metadata": {},
   "source": [
    "<h4> Question 4.d<h4/>"
   ]
  },
  {
   "cell_type": "code",
   "execution_count": 74,
   "metadata": {},
   "outputs": [
    {
     "name": "stdout",
     "output_type": "stream",
     "text": [
      "f1 score on test data is  0.6792216201678325\n",
      "\n",
      "Confusion matrix, without normalization\n",
      "[[88397  1608]\n",
      " [ 7047  2947]]\n"
     ]
    },
    {
     "data": {
      "text/plain": [
       "<matplotlib.axes._subplots.AxesSubplot at 0x7f319b54fba8>"
      ]
     },
     "execution_count": 74,
     "metadata": {},
     "output_type": "execute_result"
    },
    {
     "data": {
      "image/png": "[encoded data removed]",
      "text/plain": [
       "<Figure size 432x288 with 2 Axes>"
      ]
     },
     "metadata": {},
     "output_type": "display_data"
    }
   ],
   "source": [
    "print('f1 score on test data is ' ,  f1_score(y_test , predictions, average='macro'))\n",
    "print()\n",
    "#plot the confusion matrix\n",
    "plot_confusion_matrix(np.array(y_test).reshape((99999,1)), predictions.reshape((99999,1)), \n",
    "                      title='Confusion matrix, without normalization')"
   ]
  },
  {
   "cell_type": "markdown",
   "metadata": {},
   "source": [
    "We have a bit the same result as before (with order 2) but it takes a bit more time to compute. However, we have twice more predicted label 1 which are 0 as true label (1608 against 762) but the same false negative.\n",
    "\n",
    "So it is bit less good than the Bayesan regression regarding to this criterias"
   ]
  },
  {
   "cell_type": "markdown",
   "metadata": {},
   "source": [
    "<h4> Question 4.e<h4/>"
   ]
  },
  {
   "cell_type": "markdown",
   "metadata": {},
   "source": [
    "To use the Laplace approximation we have to compute $ \\mu $ which is $ \\hat{w} $ computed in the question before with the gradient descent. Then we have to compute $\\Sigma$  where :\n",
    "\n",
    "$ \\hat{w} = argmax  (log(g))$\n",
    "\n",
    "\n",
    "$\\Sigma^{-1} = -  { \\partial log(g)  \\over \\partial w \\partial w^T } $\n",
    "\n",
    "$\\Sigma^{-1} = {\\delta_{i,j} \\over {\\sigma^2} }  - \\sum_{n=0}^{n=N} x_n^{(i)} x_n^{(j)}  { exp(-w^T x_n)  \\over ({1 + exp(-w^T x_n)})^2} $\n",
    "\n",
    "Once we have $\\Sigma $ and $\\hat{w} $ we can generate the $ \\mathcal{N} (\\hat{w} ,\\Sigma_{|\\hat{w}} ) $ which will give us the weights\n",
    "\n",
    "Then to predict as we can't compute the probability directly but we can draw S samples $ w_1 , ... , w_S $ to predict it\n",
    "\n",
    "$ \\mathbb{E}( \\mathbb{P} (T_{new} | x_{new} , w ) ) \\approx  { 1  \\over S }\\sum_{s=1} ^{S} { 1  \\over {1 + exp(-w_s^T x_{new})}}  $\n"
   ]
  },
  {
   "cell_type": "markdown",
   "metadata": {},
   "source": [
    "<h3> Question 5 \n",
    " <h3/>"
   ]
  },
  {
   "cell_type": "code",
   "execution_count": null,
   "metadata": {},
   "outputs": [],
   "source": [
    "def Sigma_1(X,W,sigma2):\n",
    "    S=np.ones((201,201))\n",
    "    A=np.exp(-0.5*W.dot(X.T)).A*sigmoid(np.dot(X, W.T)).A.T\n",
    "    X_inter = A.dot(X)\n",
    "    S=-X_inter.T.dot(X_inter)\n",
    "    S=np.array(S)\n",
    "    for i in range (201): \n",
    "        S[i][i]+=1/sigma2\n",
    "    return S\n",
    "\n",
    "Sigma=Sig(X_log, W_hat, 1000)"
   ]
  },
  {
   "cell_type": "code",
   "execution_count": null,
   "metadata": {},
   "outputs": [],
   "source": [
    "S=1000\n",
    "Proba=0\n",
    "X_test_l=get_X(X_test,1)\n",
    "for i in range(S):\n",
    "    W_laplace=np.matrix(np.random.multivariate_normal(W_hat[0], np.linalg.inv(Sigma))).T\n",
    "    predictions=sigmoid(np.dot(X_test_l, W_laplace))\n",
    "    Proba+=(1/S)*predictions\n",
    "Proba=Proba.round()\n",
    "print(f1_score(y_test,predictions, average=\"macro\"))"
   ]
  }
 ],
 "metadata": {
  "kernelspec": {
   "display_name": "Python 3",
   "language": "python",
   "name": "python3"
  },
  "language_info": {
   "codemirror_mode": {
    "name": "ipython",
    "version": 3
   },
   "file_extension": ".py",
   "mimetype": "text/x-python",
   "name": "python",
   "nbconvert_exporter": "python",
   "pygments_lexer": "ipython3",
   "version": "3.5.2"
  }
 },
 "nbformat": 4,
 "nbformat_minor": 2
}
